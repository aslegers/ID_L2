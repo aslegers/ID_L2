{
 "cells": [
  {
   "cell_type": "code",
   "execution_count": 4,
   "metadata": {
    "collapsed": true
   },
   "outputs": [],
   "source": [
    "\n",
    "import os \n",
    "import nltk\n",
    "from unidecode \n",
    "import unidecode #pour convertir les espaces insecables en caracteres ASCII gai\n",
    "import codecs #pour un module qui tolere les accents?\n",
    "from nltk import word_tokenize\n",
    "from pprint import pprint\n",
    "import numpy\n",
    "import pandas\n",
    "            \n",
    "'''\n",
    "import pretrained vector-space model\n",
    "'''\n",
    "import gensim\n",
    "model = gensim.models.Word2Vec.load('C:/Users/antoi/Documents/UDEM/Article2/ID_L2/frwiki.gensim')\n",
    "\n",
    "'''\n",
    "pour l'environnemnet Java requis par le POS-tagger\n",
    "'''\n",
    "#Enfin, nous y sommes ! \n",
    "os.environ['JAVA_HOME'] = \"C:\\\\Program Files\\\\Java\\\\jre1.8.0_171\\\\bin\"\n",
    "_path_to_jar = \"C:\\\\Users\\\\antoi\\\\Documents\\\\UDEM\\\\Article2\\\\ID_L2\\\\stanford-corenlp-full-2018-02-27\\\\stanford-postagger-full-2018-02-27\\\\stanford-postagger.jar\"\n",
    "_path_to_model = \"C:\\\\Users\\\\antoi\\\\Documents\\\\UDEM\\Article2\\\\ID_L2\\\\stanford-corenlp-full-2018-02-27\\\\stanford-postagger-full-2018-02-27\\\\models\\\\french.tagger\"\n",
    "from nltk.tag.stanford import StanfordPOSTagger\n"
   ]
  },
  {
   "cell_type": "code",
   "execution_count": 70,
   "metadata": {
    "collapsed": true
   },
   "outputs": [],
   "source": [
    "'''\n",
    "itération du tagger sur chaque fichier-patient et subsetting des substantifs ('NC')\n",
    "'''\n",
    "pathToData = os.path.join('C:/', 'Users', 'antoi', 'Documents' , 'UDEM', 'Article2', 'ID_L2', 'data')\n",
    "os.chdir(pathToData)\n",
    "#on appelle la fonction du Stanford Tagger\n",
    "pos_tagger = StanfordPOSTagger(_path_to_model, _path_to_jar, encoding='utf8')\n",
    "taggedSample = []\n",
    "taggedNouns = {} #ceci est un dict contenant {patient.txt: liste de substantifs produits}\n",
    "for i in os.listdir(r'C:\\Users\\antoi\\Documents\\UDEM\\Article2\\ID_L2\\data'):\n",
    "    if i.endswith('.txt'):\n",
    "        taggedNouns[i] = []\n",
    "        with open(i, mode='r', encoding='utf-8-sig') as j:\n",
    "            lire = j.read()\n",
    "            Tokens = word_tokenize(lire) # tokenizer de base de NLTK\n",
    "            TokensASCII = [unidecode(word) for word in Tokens] # retire le mystérieux espace insécable, mais aussi tous les accents\n",
    "            taggedSample = pos_tagger.tag(TokensASCII)\n",
    "            for tupletag in taggedSample:\n",
    "                if tupletag[1]=='NC':\n",
    "                    taggedNouns[i].append(tupletag[0])\n",
    "                "
   ]
  },
  {
   "cell_type": "code",
   "execution_count": 72,
   "metadata": {
    "collapsed": true
   },
   "outputs": [],
   "source": [
    "'''\n",
    "itération sur chaque échantillon et calcul de la norme moyenne de chaque patient + exportation en .csv\n",
    "'''\n",
    "\n",
    "csvRowList = []\n",
    "for i, nouns in taggedNouns.items():\n",
    "    nounNorms = []\n",
    "    missingWords = set()\n",
    "    row = {}\n",
    "    for noun in nouns:\n",
    "        try:\n",
    "            nounNorms.append(numpy.linalg.norm(model.wv[noun]))\n",
    "        except KeyError:\n",
    "            missingWords.add(noun)\n",
    "    row = {\n",
    "            \"name\": \"patient{}\".format(i),\n",
    "            \"noun_norm\": numpy.nanmean(nounNorms),\n",
    "            \"missingInModel\": missingWords\n",
    "            }\n",
    "    csvRowList.append(row)\n",
    "    \n",
    "df = pandas.DataFrame(csvRowList)\n",
    "df = df[[\"name\", \"noun_norm\", \"missingInModel\"]]\n",
    "outputfilename = \"noun_norm.csv\"\n",
    "df.to_csv(outputfilename, sep=\",\")"
   ]
  },
  {
   "cell_type": "code",
   "execution_count": null,
   "metadata": {
    "collapsed": true
   },
   "outputs": [],
   "source": []
  },
  {
   "cell_type": "code",
   "execution_count": null,
   "metadata": {
    "collapsed": true
   },
   "outputs": [],
   "source": []
  },
  {
   "cell_type": "code",
   "execution_count": null,
   "metadata": {
    "collapsed": true
   },
   "outputs": [],
   "source": []
  },
  {
   "cell_type": "code",
   "execution_count": null,
   "metadata": {
    "collapsed": true
   },
   "outputs": [],
   "source": []
  }
 ],
 "metadata": {
  "kernelspec": {
   "display_name": "Python 3",
   "language": "python",
   "name": "python3"
  },
  "language_info": {
   "codemirror_mode": {
    "name": "ipython",
    "version": 3
   },
   "file_extension": ".py",
   "mimetype": "text/x-python",
   "name": "python",
   "nbconvert_exporter": "python",
   "pygments_lexer": "ipython3",
   "version": "3.6.3"
  }
 },
 "nbformat": 4,
 "nbformat_minor": 2
}
